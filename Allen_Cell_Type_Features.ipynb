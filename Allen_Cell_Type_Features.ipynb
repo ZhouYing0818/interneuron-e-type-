{
 "cells": [
  {
   "cell_type": "code",
   "execution_count": null,
   "metadata": {},
   "outputs": [],
   "source": [
    "#!/usr/bin/python\n",
    "#coding:utf-8\n",
    "#@ZHOU_YING\n",
    "#2018-10-27\n",
    "from allensdk.core.cell_types_cache import CellTypesCache\n",
    "from allensdk.core.nwb_data_set import NwbDataSet\n",
    "from allensdk.ephys.extract_cell_features import extract_cell_features\n",
    "from collections import defaultdict\n",
    "import pandas as pd\n",
    "import os\n",
    "ctc=CellTypesCache(manifest_file='/mnt/f/allen_cell_type/manifest.json')\n",
    "path='/mnt/f/temp/'\n",
    "os.chdir(path)\n",
    "basename=\"_ephys.nwb\"\n",
    "file_list=pd.read_csv('/mnt/f/temp/id.csv',header=None,usecols=[0],skiprows=1)\n",
    "features_list=['tau','input_resistance','vm_for_sag','fi_fit_slope','sag','rheobase_i','v_baseline']\n",
    "features=defaultdict(list)\n",
    "for i in range(0,len(file_list)):\n",
    "    filename=str(file_list.loc[i,0])+basename\n",
    "    data_set = NwbDataSet(filename)\n",
    "    sweeps = ctc.get_ephys_sweeps(file_list.loc[i,0])\n",
    "    # group the sweeps by stimulus \n",
    "    sweep_numbers = defaultdict(list)\n",
    "    for sweep in sweeps:\n",
    "        sweep_numbers[sweep['stimulus_name']].append(sweep['sweep_number'])\n",
    "    \n",
    "    # calculate features\n",
    "    cell_features = extract_cell_features(data_set, sweep_numbers['Ramp'], sweep_numbers['Short Square'],sweep_numbers['Long Square'])\n",
    "    cell_features=cell_features['long_squares']  #仅提取Long Squares实验模式下的信息\n",
    "    features[\"Id\"].append(str(file_list.loc[i,0]))\n",
    "    for j in range(0,len(features_list)):\n",
    "        features[features_list[j]].append(cell_features[features_list[j]])\n",
    "features=pd.DataFrame(features)\n",
    "features.to_csv('features1.csv',index=False)  #将提取的数据框存储为csv文件"
   ]
  }
 ],
 "metadata": {
  "kernelspec": {
   "display_name": "Python 3",
   "language": "python",
   "name": "python3"
  },
  "language_info": {
   "codemirror_mode": {
    "name": "ipython",
    "version": 3
   },
   "file_extension": ".py",
   "mimetype": "text/x-python",
   "name": "python",
   "nbconvert_exporter": "python",
   "pygments_lexer": "ipython3",
   "version": "3.7.0"
  }
 },
 "nbformat": 4,
 "nbformat_minor": 2
}
