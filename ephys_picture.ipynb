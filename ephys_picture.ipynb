{
 "cells": [
  {
   "cell_type": "code",
   "execution_count": null,
   "metadata": {},
   "outputs": [],
   "source": [
    "#@ZHOU_YING\n",
    "#2018-10-31\n",
    "import numpy as np\n",
    "import os\n",
    "import matplotlib.pyplot as plt\n",
    "import pandas as pd\n",
    "path='/mnt/f/temp/JSNephysRawdata/'\n",
    "os.chdir(path)\n",
    "filelist=pd.read_csv('filelist.csv',header=None)\n",
    "for i in range(0,len(filelist)):\n",
    "\tfilename=filelist.loc[i,0]\n",
    "\tdata=np.loadtxt(filename,skiprows=1)\n",
    "\tstimulus=pd.DataFrame(data[:,1])\n",
    "\tV=pd.DataFrame(data[:,0])\n",
    "\tlength=len(data[0,:])\n",
    "\tindex=length/2\n",
    "\tfor j in range(1,index):\n",
    "\t\tnum_stim=2*j+1\n",
    "\t\tnum_v=2*j\n",
    "\t\tstimulus.loc[:,j]=pd.DataFrame(data[:,num_stim])\n",
    "\t\tV.loc[:,j]=pd.DataFrame(data[:,num_v])\n",
    "\tsavename_stim='/mnt/f/temp/JSNephysRawdata/picture/'+filename.split(\".\")[0]+'_'+'stim'+'.tif'\n",
    "\tsavename_V='/mnt/f/temp/JSNephysRawdata/picture/'+filename.split(\".\")[0]+'_'+'V'+'.tif'\n",
    "\tplt.plot(stimulus)\n",
    "\tplt.savefig(savename_stim,format='tiff')\n",
    "\tplt.show()\n",
    "\tplt.plot(V)\n",
    "\tplt.savefig(savename_V,format='tiff')\n",
    "\tplt.show()"
   ]
  }
 ],
 "metadata": {
  "kernelspec": {
   "display_name": "Python 3",
   "language": "python",
   "name": "python3"
  },
  "language_info": {
   "codemirror_mode": {
    "name": "ipython",
    "version": 3
   },
   "file_extension": ".py",
   "mimetype": "text/x-python",
   "name": "python",
   "nbconvert_exporter": "python",
   "pygments_lexer": "ipython3",
   "version": "3.7.0"
  }
 },
 "nbformat": 4,
 "nbformat_minor": 2
}
